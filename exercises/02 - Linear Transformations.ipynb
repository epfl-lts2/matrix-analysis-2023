{
 "cells": [
  {
   "cell_type": "markdown",
   "id": "bc0eba74",
   "metadata": {},
   "source": [
    "# Matrix Analysis 2023 - EE312\n",
    "\n",
    "## Week 2 - Linear transformations\n",
    "[LTS2](https://lts2.epfl.ch)\n",
    "\n",
    "\n",
    "The first week notebook (introduction to Python, Numpy and Matplotlib) can be used as a help.\n",
    "\n",
    "## Important\n",
    "You need to submit *individually* your answers on moodle before the next exercise session. For the theoretical questions you can either fill the notebook or write it on a separate sheet (if you are not comfortable with Markdown/TeX) and upload a scanned version. \n",
    "\n",
    "## Objective\n",
    "\n",
    "The end goal is to understand purely algebraic, matrix based, view of a few linear transforms.\n",
    "\n",
    "## Exercise \n",
    "NB: Questions 1 to 3 are identical to last year's, hence will amount to a rather symbolic number of points in the grade.\n",
    "1. Prove that any set of orthogonal vectors $v_i \\in \\mathbb{C}^N, \\, i=1, \\ldots , M \\leq N$ such that $v_i^H v_j = C \\delta_{i,j}$ is linearly independent (where $C$ is some constant).\n"
   ]
  },
  {
   "cell_type": "markdown",
   "id": "e5454c70",
   "metadata": {},
   "source": []
  },
  {
   "cell_type": "markdown",
   "id": "7c06c1c1-063c-4c83-93a6-73d4de70dfac",
   "metadata": {},
   "source": [
    "2. Compute $a_r = \\sum_{n=0}^{N-1}e^{j2\\pi r\\frac{n}{N}}$, where $r$ is an integer (discuss the result depending on the value of $r$)."
   ]
  },
  {
   "cell_type": "markdown",
   "id": "0f0e4986-062f-420a-816e-0e59d9b2cf62",
   "metadata": {},
   "source": []
  },
  {
   "cell_type": "markdown",
   "id": "749b908d",
   "metadata": {},
   "source": [
    "3. Let $v_k \\in \\mathbb{C}^N$ be such that $v_k[n] = e^{j 2 \\pi \\frac{kn}{N}}$, for $k,n = 0, \\ldots , N-1$. Prove that these vectors are mutually orthogonal, hence linearly independent. Compute the norm of $v_k$."
   ]
  },
  {
   "cell_type": "markdown",
   "id": "8be2253c",
   "metadata": {},
   "source": []
  },
  {
   "cell_type": "markdown",
   "id": "e0843669-ed07-4e70-af2d-b60d907962f9",
   "metadata": {},
   "source": [
    "4. Let us now consider $c_k\\in\\mathbb{R}^N$ such that $c_k[n] = \\cos\\left(\\frac{(2n + 1)k\\pi}{2N}\\right)$. Prove those vectors are also mutually orthogonal (hint: try to re-use the result of question 2). Compute the norm of $c_k$."
   ]
  },
  {
   "cell_type": "markdown",
   "id": "e3c70485-4aea-4437-99b7-751fdda1ab7f",
   "metadata": {},
   "source": []
  },
  {
   "cell_type": "markdown",
   "id": "e8a2277a-769f-4414-aba4-e66a54da86b4",
   "metadata": {},
   "source": [
    "5. Let us now consider the $N\\times N$ Hadamard matrix $H_p$, with $N=2^p$ . This matrix is recursively defined as follows:\n",
    "$$H_0 = \\begin{pmatrix}1 \\end{pmatrix},$$\n",
    "and\n",
    "$$\n",
    "H_p = \\begin{pmatrix}H_{p-1} & H_{p-1} \\\\ H_{p-1} & -H_{p-1} \\end{pmatrix}.\n",
    "$$\n",
    "\n",
    "So we have $H_1 = \\begin{pmatrix}1 & 1 \\\\ 1 & -1 \\end{pmatrix}$, etc.\n",
    "\n",
    "Prove that $H_p$ is orthogonal. What is the norm of each vector composing $H_p$ ?"
   ]
  },
  {
   "cell_type": "code",
   "execution_count": null,
   "id": "e7183e1c-6b29-4ae0-8019-8f9990e60e7b",
   "metadata": {},
   "outputs": [],
   "source": []
  },
  {
   "cell_type": "markdown",
   "id": "5da459b6",
   "metadata": {},
   "source": [
    "6. Set up the $N\\times N$ matrices $W[k,n] = v_k[n]$, $C[k,n] = c_k[n]$ and $H_N$. Build their normalized versions, respectively $\\hat{W}$, $\\hat{C}$ and $\\hat{H}$.\n",
    "\n",
    "For the Hadamard matrix, the [numpy.block](https://numpy.org/doc/stable/reference/generated/numpy.block.html) might be useful."
   ]
  },
  {
   "cell_type": "code",
   "execution_count": null,
   "id": "26208385-a9af-43e3-9911-81379f166145",
   "metadata": {},
   "outputs": [],
   "source": [
    "import numpy as np\n",
    "import scipy.misc\n",
    "import matplotlib.pyplot as plt"
   ]
  },
  {
   "cell_type": "code",
   "execution_count": null,
   "id": "dcf0a026-53eb-4a02-9893-9d8046e4648c",
   "metadata": {},
   "outputs": [],
   "source": [
    "N = 1024 # you can change this. Keep it a power of 2 for the Hadamard matrix and remember to re-generate properly sized matrices for the ECG signal afterwards.\n",
    "\n",
    "def get_hadamard_matrix(N):\n",
    "    num_levels = int(np.log2(N)) # number of \"levels\" to build a hadamard matrix of size N\n",
    "    # insert your code here\n",
    "    return np.zeros((N, N))\n",
    "\n",
    "W = # insert your code here. \n",
    "W_hat = # insert your code here. \n",
    "\n",
    "C = # insert your code here. \n",
    "C_hat = # insert your code here. \n",
    "\n",
    "H = get_hadamard_matrix(N)\n",
    "H_hat = # insert your code here. "
   ]
  },
  {
   "cell_type": "markdown",
   "id": "f827dc3f",
   "metadata": {},
   "source": [
    "Let us use these transforms on a real-world signal: we will use (part of) an ECG signal"
   ]
  },
  {
   "cell_type": "code",
   "execution_count": null,
   "id": "624e74cd-698b-47c0-bab8-ba0429911ba0",
   "metadata": {},
   "outputs": [],
   "source": [
    "# deprecated but noto still has an old scipy version so keeping it for compatibility\n",
    "x_full = scipy.misc.electrocardiogram() \n",
    "# the full signal is very long, we will restrict ourselves to 1024 data points to avoid memory issues. You can change the value, keep it a power of 2 to avoid issues with the hadamard matrix\n",
    "N = 1024 \n",
    "x_or = x_full[:N]\n",
    "x = x_or + 0.1*np.random.normal(0, 1, N) # create a noisy version of the signal"
   ]
  },
  {
   "cell_type": "code",
   "execution_count": null,
   "id": "e77ea395-d3ee-48b6-bcf1-4e8fa9f86faf",
   "metadata": {},
   "outputs": [],
   "source": [
    "plt.plot(x)\n",
    "plt.plot(x_or, 'r')"
   ]
  },
  {
   "cell_type": "markdown",
   "id": "38c72641-593e-45f2-be5d-cec1074e05c9",
   "metadata": {},
   "source": [
    "6. Using the normalized versions of the transforms defined and implemented, compute the transform of the noisy signal and plot the result (be careful with $\\hat{W}$, the output is complex). \n",
    "\n",
    "NOTES:\n",
    "- $\\hat{W}x$ is the discrete Fourier transform (DFT) of the input signal\n",
    "- $\\hat{C}x$ is the discrete cosine transform (DCT type 2) of the input signal\n",
    "- $\\hat{H}x$ is the Hadamard transform of the input signal. *Do not use it directly*, instead we will re-order the rows of $\\hat{H}$ to get a behavior that is closer to the other tranforms studied here. Use the supplied functions below to compute the Walsh matrix from the Hadamard matrix (bonus question: why is the Walsh matrix still orthogonal/orthonormal ?)"
   ]
  },
  {
   "cell_type": "code",
   "execution_count": 16,
   "id": "e17c1161-b858-4f5f-8d66-cea4454250a1",
   "metadata": {},
   "outputs": [],
   "source": [
    "def reverse_Bits(n, no_of_bits):\n",
    "    result = 0\n",
    "    for i in range(no_of_bits):\n",
    "        result <<= 1\n",
    "        result |= n & 1\n",
    "        n >>= 1\n",
    "    return result\n",
    "\n",
    "def hadamard2walshseq(n):\n",
    "    b = int(np.log2(n))\n",
    "    s = np.zeros(n, dtype=int)\n",
    "    for k in range(n):\n",
    "        s[k] = reverse_Bits(k^(k>>1), b)\n",
    "    return s\n",
    "\n",
    "def hadamard2walsh(H):\n",
    "    s = hadamard2walshseq(H.shape[0])\n",
    "    return H[s, :]"
   ]
  },
  {
   "cell_type": "code",
   "execution_count": null,
   "id": "d8d1a0a3-86c6-43c5-981b-49e8b72667b5",
   "metadata": {},
   "outputs": [],
   "source": [
    "Walsh_hat = hadamard2walsh(H_hat)"
   ]
  },
  {
   "cell_type": "code",
   "execution_count": null,
   "id": "c0bd7cae-d6ad-4137-8a22-e126c5a0113b",
   "metadata": {},
   "outputs": [],
   "source": [
    "x_dft = # your code here\n",
    "x_dct = # your code here\n",
    "x_walsh = # your code here"
   ]
  },
  {
   "cell_type": "code",
   "execution_count": null,
   "id": "8b4b33a2-694a-407d-9c61-47166c25b757",
   "metadata": {},
   "outputs": [],
   "source": [
    "# plot the transformed signals\n",
    "plt.plot()"
   ]
  },
  {
   "cell_type": "markdown",
   "id": "c14cb696-9f31-4dfb-b0d9-c1386a01e857",
   "metadata": {},
   "source": [
    "7. Using the first $k$ coefficients of the DCT and Walsh transform of the input signal, reconstruct a denoised version of the signal and visualize (you can plot `x_orig` on the same graph to chose an appropriate value of $k$). Do the equivalent with the Fourier transform using the first and last $\\frac{k}{2}$ coefficients"
   ]
  },
  {
   "cell_type": "code",
   "execution_count": null,
   "id": "8ecaf8d7-2e4d-4474-9da0-2ee85b307ec0",
   "metadata": {},
   "outputs": [],
   "source": [
    "def reconstruct_dct_walsh(input_signal, transform_matrix, k):\n",
    "    # your code here\n",
    "    return None\n",
    "\n",
    "def reconstruct_dft(input_signal, transform_matrix, k):\n",
    "    # your code here\n",
    "    # beware of complex input/matrix !\n",
    "    return None\n",
    "\n",
    "k = # chose an appropriate value\n",
    "\n",
    "x_dct_reconstruct = reconstruct_dct_walsh(x_dct, C_hat, k)\n",
    "x_walsh_reconstruct = reconstruct_dct_walsh(x_walsh, Walsh_hat, k)\n",
    "x_dft_reconstruct = reconstruct_dft(x_dft, W_hat, k)\n"
   ]
  },
  {
   "cell_type": "code",
   "execution_count": null,
   "id": "a8969541-8d42-4a35-9d95-15e139262ec0",
   "metadata": {},
   "outputs": [],
   "source": [
    "# plot the reconstructed signals\n",
    "plt.plot(...)"
   ]
  },
  {
   "cell_type": "markdown",
   "id": "3405bca3-67c8-445a-b1cd-68d5aaf567a8",
   "metadata": {},
   "source": [
    "8. What would be the advantages/drawbacks of the DCT and Walsh transform over Fourier ?"
   ]
  },
  {
   "cell_type": "code",
   "execution_count": null,
   "id": "ff8f8fd3-8031-46a0-9625-674790ab59fe",
   "metadata": {},
   "outputs": [],
   "source": []
  }
 ],
 "metadata": {
  "kernelspec": {
   "display_name": "Python 3 (ipykernel)",
   "language": "python",
   "name": "python3"
  },
  "language_info": {
   "codemirror_mode": {
    "name": "ipython",
    "version": 3
   },
   "file_extension": ".py",
   "mimetype": "text/x-python",
   "name": "python",
   "nbconvert_exporter": "python",
   "pygments_lexer": "ipython3",
   "version": "3.9.16"
  }
 },
 "nbformat": 4,
 "nbformat_minor": 5
}
