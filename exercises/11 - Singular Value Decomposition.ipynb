{
 "cells": [
  {
   "cell_type": "markdown",
   "id": "d6e6102b-49b4-48b9-8b65-95c4c1cf914e",
   "metadata": {},
   "source": [
    "# Matrix Analysis 2023 - EE312\n",
    "## Week 11 - Singular Value Decomposition\n",
    "[LTS2](https://lts2.epfl.ch)"
   ]
  },
  {
   "cell_type": "markdown",
   "id": "7064c6e1-18e8-41a1-923b-f750c3850a8b",
   "metadata": {},
   "source": [
    "## 1. SVD\n",
    "Compute the SVD of the matrix $A=\\begin{pmatrix}1 & 0 & 0 & 1\\\\0 & 1 & 1 & 0\\end{pmatrix}$."
   ]
  },
  {
   "cell_type": "markdown",
   "id": "8e29b633-18bc-49c6-9172-0ab88ca82ae2",
   "metadata": {},
   "source": [
    "**Answer**\n"
   ]
  },
  {
   "cell_type": "markdown",
   "id": "7289ee54-047c-42a0-8b61-311dd7ba25c7",
   "metadata": {},
   "source": [
    "## 2. PCA and SVD\n",
    "As you remember from last week's exercise session, Principal Component Analysis (PCA) relies on the computation of eigenvalues and eigenvectors of the sample covariance matrix. \n",
    "\n",
    "Let us consider $N$ data points $\\{x_k\\}, k=1, ..., N$ in $\\mathbb{R}^d$. We will denote by $X$ the $N\\times d$ matrix s.t. :\n",
    "\n",
    "$\n",
    "X = \\begin{pmatrix}\n",
    "x_1^T\\\\\n",
    "x_2^T\\\\ \\vdots \\\\ x_N^T \\end{pmatrix}$\n",
    "\n",
    "The sample covariance matrix is defined by $C = \\frac{1}{N}X^TX$.\n",
    "\n",
    "### 2.1 \n",
    "Using the SVD of $X$, find a relationship between the eigenvalues/eigenvectors of $C$ and the singular values/singular vectors of $X$."
   ]
  },
  {
   "cell_type": "markdown",
   "id": "3dee391f-162b-46ba-8dd7-3beeebfd833f",
   "metadata": {},
   "source": [
    "**Answer**\n",
    "\n",
    "---"
   ]
  },
  {
   "cell_type": "markdown",
   "id": "64a38de9-5224-48b3-9193-a4c743f34760",
   "metadata": {},
   "source": [
    "### 2.2\n",
    "\n",
    "Let us load last week's dataset and use the SVD to perform the PCA."
   ]
  },
  {
   "cell_type": "code",
   "execution_count": null,
   "id": "dcecec88-c959-4c6e-bb3c-00c7b40580d1",
   "metadata": {},
   "outputs": [],
   "source": [
    "from sklearn.datasets import fetch_olivetti_faces\n",
    "import numpy as np\n",
    "import matplotlib.pyplot as plt"
   ]
  },
  {
   "cell_type": "code",
   "execution_count": null,
   "id": "b3c82cf4-9446-4a83-9c0c-3748394b55bd",
   "metadata": {},
   "outputs": [],
   "source": [
    "# Load the dataset\n",
    "faces, labels = fetch_olivetti_faces(return_X_y=True, shuffle=True)\n",
    "mean_face = np.mean(faces, axis=0)\n",
    "faces_zero_centered = faces - mean_face"
   ]
  },
  {
   "cell_type": "markdown",
   "id": "112bd95b-973a-4898-9007-22b405d6687f",
   "metadata": {},
   "source": [
    "Check the [svd](https://numpy.org/doc/stable/reference/generated/numpy.linalg.svd.html) function in Numpy and use it to compute the eigenvalues and eigenvectors of $C$."
   ]
  },
  {
   "cell_type": "code",
   "execution_count": null,
   "id": "afca7fa8-ebaf-4656-a1dd-fa971ae60c89",
   "metadata": {},
   "outputs": [],
   "source": [
    "eigen_vals = # your code here\n",
    "eigen_vecs = # your code here"
   ]
  },
  {
   "cell_type": "markdown",
   "id": "78143d54-2dfb-4c18-81ef-4e483d4e1c93",
   "metadata": {},
   "source": [
    "What is the interest of using SVD vs. computing explicitely $C$ and its eigenvalues/eigenvectors ?"
   ]
  },
  {
   "cell_type": "markdown",
   "id": "88c2f91d-9ce3-48d0-a55c-cb0ffa6206cd",
   "metadata": {},
   "source": [
    "**Answer** \n"
   ]
  },
  {
   "cell_type": "markdown",
   "id": "372393af-7df5-4c8c-954b-9b654d4aa71d",
   "metadata": {},
   "source": [
    "---\n",
    "\n",
    "### 2.3\n",
    "Compute a low-rank $k<<d$ approximation $X_k$ of $X$. You can plot the singular values to choose $k$. What is the relationship between $X_k$ and the PCA ?"
   ]
  },
  {
   "cell_type": "markdown",
   "id": "2ba220d6-703e-4b04-bc75-17d42a793190",
   "metadata": {},
   "source": [
    "**Answer**\n",
    "\n",
    "\n"
   ]
  },
  {
   "cell_type": "markdown",
   "id": "c93fa33c-6399-49e0-9b73-adab745ece13",
   "metadata": {},
   "source": [
    "## 3. An application of SVD to video\n",
    "In this exercise you will use the SVD on video data, acquired from a surveillance camera. The video is part of the [BMC 2012 dataset](http://backgroundmodelschallenge.eu). In order to make things easier for you, the data has been preprocessed (reduced in size and converted to grayscale) and made available as a Numpy 3D array"
   ]
  },
  {
   "cell_type": "code",
   "execution_count": null,
   "id": "2b69bb5c-a2c5-49b8-b9e6-0a4e781f8041",
   "metadata": {},
   "outputs": [],
   "source": [
    "import requests\n",
    "r=requests.get('https://os.unil.cloud.switch.ch/swift/v1/lts2-ee312/video.npz', allow_redirects=True)\n",
    "with open('video.npz', 'wb') as f: # save locally\n",
    "    f.write(r.content)\n",
    "video = np.load('video.npz')['data']"
   ]
  },
  {
   "cell_type": "markdown",
   "id": "4d6a5f95-25f7-4a9c-9dce-a914c7e07693",
   "metadata": {},
   "source": [
    "The `video` variable is a 3D array, i.e. a sequence of 2D arrays, each 2D array being a frame of the video. Let us display a few of these frames "
   ]
  },
  {
   "cell_type": "code",
   "execution_count": null,
   "id": "bbe614b0-1849-491e-a9c3-71b0406d49cd",
   "metadata": {},
   "outputs": [],
   "source": [
    "plt.imshow(video[0], cmap='gray')"
   ]
  },
  {
   "cell_type": "code",
   "execution_count": null,
   "id": "1bbdb4bb-28b1-4831-8d3c-16759f3aa102",
   "metadata": {},
   "outputs": [],
   "source": [
    "nrows = 4\n",
    "ncols = 4\n",
    "for k in range(nrows*ncols):\n",
    "    plt.subplot(nrows, ncols, k+1)\n",
    "    plt.imshow(np.reshape(video[k], (120, 160)), cmap='gray')"
   ]
  },
  {
   "cell_type": "markdown",
   "id": "cee7304a-b4b2-4ff2-91ec-1188257c21a5",
   "metadata": {},
   "source": [
    "### 3.1\n",
    "Each frame is made of 120x160 pixels, coded on a single byte (i.e. with values between 0 and 255). Convert this 3D matrix to a 2D one (using the [reshape](https://numpy.org/doc/stable/reference/generated/numpy.reshape.html) function should help) and rescale its values s.t. they are between 0 and 1. "
   ]
  },
  {
   "cell_type": "markdown",
   "id": "4464d7e4-76aa-424a-83ca-44deadd8cbad",
   "metadata": {},
   "source": [
    "**Answer**"
   ]
  },
  {
   "cell_type": "code",
   "execution_count": null,
   "id": "3178c510-e455-4919-a860-6b08398cb111",
   "metadata": {},
   "outputs": [],
   "source": [
    "# your code here"
   ]
  },
  {
   "cell_type": "markdown",
   "id": "53049e5b-59e7-45c2-9a32-59089f2e5b8d",
   "metadata": {},
   "source": [
    "### 3.2\n",
    "Remembering what you saw in the previous exercise, what is a possible application of the SVD in this case ? (Hint: using the `full_matrices=False` option when calling `svd` might speed up things)"
   ]
  },
  {
   "cell_type": "code",
   "execution_count": null,
   "id": "3cf23d0d-c932-4bc5-b4a1-ce2d52109654",
   "metadata": {},
   "outputs": [],
   "source": [
    "# your code here"
   ]
  },
  {
   "cell_type": "code",
   "execution_count": null,
   "id": "c30b0757-dd32-435b-af56-10617af8f3bf",
   "metadata": {},
   "outputs": [],
   "source": []
  }
 ],
 "metadata": {
  "kernelspec": {
   "display_name": "Python 3 (ipykernel)",
   "language": "python",
   "name": "python3"
  },
  "language_info": {
   "codemirror_mode": {
    "name": "ipython",
    "version": 3
   },
   "file_extension": ".py",
   "mimetype": "text/x-python",
   "name": "python",
   "nbconvert_exporter": "python",
   "pygments_lexer": "ipython3",
   "version": "3.9.16"
  }
 },
 "nbformat": 4,
 "nbformat_minor": 5
}
