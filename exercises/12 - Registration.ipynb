{
 "cells": [
  {
   "cell_type": "markdown",
   "id": "1453c483-f641-4834-b396-0371bccbb2f6",
   "metadata": {},
   "source": [
    "# Matrix Analysis 2023 - EE312\n",
    "## Week 12 - Rigid registration and SVD\n",
    "[LTS2](https://lts2.epfl.ch)\n",
    "\n",
    "Submit your answers *invidually* on moodle by June 9th 2023, noon.\n",
    "\n",
    "In this session you will study how to solve a rigid registration problem (in the least square sense) using the SVD."
   ]
  },
  {
   "cell_type": "markdown",
   "id": "b85bdfa5-9664-4100-91da-6c20dcef50fa",
   "metadata": {},
   "source": [
    "Let us consider two sets of points from $\\mathbb{R}^d$, $\\mathcal{P}=\\{\\mathbf{p}_k\\}$ and $\\mathcal{Q}=\\{\\mathbf{q}_k\\}$, $k=1,...,n$. Each point $\\mathbf{p}_k$ matches a point $\\mathbf{q}_k$ through a linear transformation, i.e. $\\mathbf{q}_k = \\mathcal{T}(\\mathbf{p}_k)$. In this exercise, we will consider the transformations that are a combination of a translation $\\mathbf{t}$ (represented by a vector in $\\mathbb{R}^d$) and a rotation $R$ (represented by an orthogonal $d\\times d$ matrix).\n",
    "\n",
    "Rigid registration consists in finding the optimal (in the least-squares sense) $R$ and $t$ such that\n",
    "$$\n",
    "(R,\\mathbf{t}) = \\underset{t\\in\\mathbb{R}^d,R\\in SO(d)}{\\operatorname{argmin}}\\sum_{k=1}^n \\| (R\\mathbf{p}_k+\\mathbf{t}) - \\mathbf{q}_k \\|^2\n",
    "$$\n",
    "\n",
    "## 1. Finding the rotation matrix $R$\n",
    "Let us first consider the (simpler) case where the translation component of the transformation is null, and we only have a rotation $R$ to find, i.e.\n",
    "\n",
    "$$\n",
    "R = \\underset{R\\in SO(d)}{\\operatorname{argmin}}\\sum_{k=1}^n \\| R\\mathbf{p}_k - \\mathbf{q}_k \\|^2\n",
    "$$\n",
    "\n",
    "1.1 Show that finding $R$ is equivalent to maximize the quantity $\\sum_{k=1}^n \\mathbf{q}_k^T R \\mathbf{p}_k$.\n",
    "\n",
    "**Answer:**"
   ]
  },
  {
   "cell_type": "markdown",
   "id": "77c732d3-2d56-4bb2-ba25-b7d37a3573d1",
   "metadata": {},
   "source": [
    "\n",
    "\n",
    "\n",
    "---"
   ]
  },
  {
   "cell_type": "markdown",
   "id": "f4eb300e-6e15-40d5-9114-21797e28969e",
   "metadata": {},
   "source": [
    "Let us define the $d\\times n$ matrices $P$ and $Q$ made from the column vectors $\\mathbf{p}_k$ and $\\mathbf{q}_k$, i.e.:\n",
    "$$\n",
    "P = \\begin{pmatrix}\\mathbf{p}_1  & \\mathbf{p}_2 & ... & \\mathbf{p}_n\\end{pmatrix}, Q = \\begin{pmatrix}\\mathbf{q}_1  & \\mathbf{q}_2 & ... & \\mathbf{q}_n\\end{pmatrix},\n",
    "$$\n",
    "\n",
    "1.2 Prove that $\\sum_{k=1}^n \\mathbf{q}_k^T R \\mathbf{p}_k = \\mathrm{tr}(Q^TRP)$\n",
    "\n",
    "**Answer**:"
   ]
  },
  {
   "cell_type": "markdown",
   "id": "9f489b57-e9a7-431e-ba80-39e9c883981f",
   "metadata": {},
   "source": [
    "\n",
    "\n",
    "\n",
    "---"
   ]
  },
  {
   "cell_type": "markdown",
   "id": "3075f61c-ce02-4b02-88c6-608c532dd504",
   "metadata": {},
   "source": [
    "1.3 Let us introduce the matrix $S=PQ^T$, its SVD decomposition $S=U\\Sigma V^T$ and $M=V^TRU$, show that $\\mathrm{tr}(Q^TRP)=\\mathrm{tr}(\\Sigma M)$.\n",
    "\n",
    "\n",
    "*Reminder*: for matrices of compatible size, the following equality holds: $\\mathrm{tr}(AB)=\\mathrm{tr}(BA)$.\n",
    "\n",
    "**Answer**:"
   ]
  },
  {
   "cell_type": "markdown",
   "id": "892beedb-8596-42d7-af00-7f5f2cc33518",
   "metadata": {},
   "source": [
    "\n",
    "\n",
    "\n",
    "---"
   ]
  },
  {
   "cell_type": "markdown",
   "id": "6813308c-2d55-45a4-95e6-1dd54b2eb608",
   "metadata": {},
   "source": [
    "1.4 Let us denote by $m_{ij}$ the coefficients of $M$. Show that $|m_{ij}|\\leq 1$. Finally show that $\\mathrm{tr}(\\Sigma M)$ is maximum for $M=I$ and compute the corresponding value of $R$\n",
    "\n",
    "(Hint: prove that $M$ is orthogonal first).\n",
    "\n",
    "**Answer:**"
   ]
  },
  {
   "cell_type": "markdown",
   "id": "0cb68569-cb8d-4bf2-9f11-66d2dfab8705",
   "metadata": {},
   "source": [
    "\n",
    "\n",
    "\n",
    "---"
   ]
  },
  {
   "cell_type": "markdown",
   "id": "2aec823c-1972-4558-81ef-4534297892a1",
   "metadata": {},
   "source": [
    "1.5 We can now verify that our method works using a numerical example, using $d=2$ to simplify visualization."
   ]
  },
  {
   "cell_type": "code",
   "execution_count": null,
   "id": "d7b6c19f-ed4c-4a26-b0a5-00c33fe9df0f",
   "metadata": {},
   "outputs": [],
   "source": [
    "import numpy as np\n",
    "import matplotlib.pyplot as plt"
   ]
  },
  {
   "cell_type": "code",
   "execution_count": null,
   "id": "e05c414f-feeb-41d2-bc77-c18c0c27f54a",
   "metadata": {},
   "outputs": [],
   "source": [
    "# Load data points from text file\n",
    "fish = np.loadtxt('../data/fish.txt')"
   ]
  },
  {
   "cell_type": "code",
   "execution_count": null,
   "id": "74c0bd55-9954-4c62-b4e6-b3cd9f1829be",
   "metadata": {},
   "outputs": [],
   "source": [
    "plt.scatter(fish[0, :], fish[1, :], marker='+')"
   ]
  },
  {
   "cell_type": "code",
   "execution_count": null,
   "id": "b36e67d5-8825-49cb-b780-6cedf0b32242",
   "metadata": {},
   "outputs": [],
   "source": [
    "# Generate a rotated version\n",
    "theta = -np.pi/6 # you can change this\n",
    "R = np.eye(2) # replace this with a rotation matrix depending on theta\n",
    "Y = R@fish  + 0.05*np.random.randn(fish.shape[1]) # transform + add noise"
   ]
  },
  {
   "cell_type": "code",
   "execution_count": null,
   "id": "7e136fae-5d5f-4ff0-bb50-93a125982136",
   "metadata": {},
   "outputs": [],
   "source": [
    "plt.scatter(fish[0, :], fish[1, :], marker='+')\n",
    "plt.scatter(Y[0, :], Y[1, :], marker='x')"
   ]
  },
  {
   "cell_type": "code",
   "execution_count": null,
   "id": "22caf3d9-30d6-475e-ac9c-8d440d973507",
   "metadata": {},
   "outputs": [],
   "source": [
    "def compute_R(P, Q):\n",
    "    # your code here\n",
    "    return np.zeros(2)"
   ]
  },
  {
   "cell_type": "code",
   "execution_count": null,
   "id": "6ac9eddb-0322-44fa-aed8-20825b5054c3",
   "metadata": {},
   "outputs": [],
   "source": [
    "R_r = compute_R(fish, Y)\n",
    "yr = R@fish"
   ]
  },
  {
   "cell_type": "code",
   "execution_count": null,
   "id": "354f77cf-c69b-447d-97d2-983a9ae0899b",
   "metadata": {},
   "outputs": [],
   "source": [
    "plt.scatter(yr[0, :], yr[1, :], marker='+')\n",
    "plt.scatter(Y[0, :], Y[1, :], marker='x')"
   ]
  },
  {
   "cell_type": "markdown",
   "id": "72050baf-3891-4c76-acbe-1f53a840609a",
   "metadata": {},
   "source": [
    "## 2. Finding the translation $\\mathbf{t}$\n"
   ]
  },
  {
   "cell_type": "markdown",
   "id": "3c2652a5-c1f2-4eae-9e40-9d3027dd50ce",
   "metadata": {},
   "source": [
    "2.1 Let us consider the function \n",
    "$$\n",
    "F(\\mathbf{t}) = \\sum_{k=1}^n \\| (R\\mathbf{p}_k+\\mathbf{t}) - \\mathbf{q}_k \\|^2,\n",
    "$$ with $\\mathbf{t}\\in\\mathbb{R}^d$.\n",
    "\n",
    "Let us also introduce the following quantities $\\bar{\\mathbf{p}}=\\frac{1}{n}\\sum_{k=1}^n\\mathbf{p}_k$ and $\\bar{\\mathbf{q}}=\\frac{1}{n}\\sum_{k=1}^n\\mathbf{q}_k$.\n",
    "\n",
    "Solve\n",
    "$$\n",
    "\\frac{\\partial F(\\mathbf{t})}{\\partial \\mathbf{t}} = 0\n",
    "$$ \n",
    "and find the optimal value of $\\mathbf{t}$\n",
    "\n",
    "Hint: if $x\\in\\mathbb{R}^d$ is a vector, the following holds:\n",
    "$$\n",
    "\\frac{\\partial x^Tx}{\\partial x} = 2x^T\n",
    "$$\n",
    "\n",
    "**Answer:**"
   ]
  },
  {
   "cell_type": "markdown",
   "id": "a48abb69-ebc5-4b6a-80ee-f58ed5f13cd4",
   "metadata": {},
   "source": [
    "\n",
    "\n",
    "\n",
    "___"
   ]
  },
  {
   "cell_type": "markdown",
   "id": "1bf385ea-fd7c-4833-a37f-813c9483652f",
   "metadata": {},
   "source": [
    "2.2 Let us define $\\mathbf{p}^\\prime_k = \\mathbf{p}_k - \\bar{\\mathbf{p}}$ and $\\mathbf{q}^\\prime_k = \\mathbf{q}_k - \\bar{\\mathbf{q}}$. Prove that \n",
    "$$\n",
    "F(\\mathbf{t}) = \\sum_{k=1}^n \\| R\\mathbf{p}^\\prime_k - \\mathbf{q}^\\prime_k \\|^2,\n",
    "$$"
   ]
  },
  {
   "cell_type": "markdown",
   "id": "aba4edf2-4104-4bce-a61e-aa1e1e11087a",
   "metadata": {},
   "source": [
    "2.3 Now we have found both $R$ and $\\mathbf{t}$, we can test on a numerical example"
   ]
  },
  {
   "cell_type": "code",
   "execution_count": null,
   "id": "a7f76f96-89db-495f-a68b-a4ea8e64f6bc",
   "metadata": {},
   "outputs": [],
   "source": [
    "# Generate a rotated + translated version\n",
    "t = np.array([-0.5, 1]).reshape(2,1) # change this if you wish\n",
    "Yt = R@fish  + t + 0.05*np.random.randn(fish.shape[1]) # transform + add noise"
   ]
  },
  {
   "cell_type": "code",
   "execution_count": null,
   "id": "8369178b-a451-463d-b725-c2c39091bec8",
   "metadata": {},
   "outputs": [],
   "source": [
    "plt.scatter(fish[0, :], fish[1, :], marker='+')\n",
    "plt.scatter(Yt[0, :], Yt[1, :], marker='x')"
   ]
  },
  {
   "cell_type": "code",
   "execution_count": null,
   "id": "17f9522a-df61-42c9-b2f7-67aaeff641e5",
   "metadata": {},
   "outputs": [],
   "source": []
  },
  {
   "cell_type": "code",
   "execution_count": null,
   "id": "d6820e9b-b937-457c-b3d8-3ec74166d1a2",
   "metadata": {},
   "outputs": [],
   "source": [
    "def do_registration(P, Q):\n",
    "    # remove translation\n",
    "    # compute rotation\n",
    "    # compute translation\n",
    "    return np.zeros(P.shape) # return either the estimated transformed version of P or the inverse transformed version of Q"
   ]
  },
  {
   "cell_type": "code",
   "execution_count": null,
   "id": "14e4a796-a20e-4bbf-81c6-4184a7512de0",
   "metadata": {},
   "outputs": [],
   "source": [
    "Yr = do_registration(fish, Yt)"
   ]
  },
  {
   "cell_type": "code",
   "execution_count": null,
   "id": "7c5d12ed-4bd2-46e1-824f-80d7a44e2bf1",
   "metadata": {},
   "outputs": [],
   "source": [
    "plt.scatter(Yt[0, :], Yt[1, :], marker='+')\n",
    "plt.scatter(Yr[0, :], Yr[1, :], marker='x')"
   ]
  }
 ],
 "metadata": {
  "kernelspec": {
   "display_name": "Python 3 (ipykernel)",
   "language": "python",
   "name": "python3"
  },
  "language_info": {
   "codemirror_mode": {
    "name": "ipython",
    "version": 3
   },
   "file_extension": ".py",
   "mimetype": "text/x-python",
   "name": "python",
   "nbconvert_exporter": "python",
   "pygments_lexer": "ipython3",
   "version": "3.9.16"
  }
 },
 "nbformat": 4,
 "nbformat_minor": 5
}
